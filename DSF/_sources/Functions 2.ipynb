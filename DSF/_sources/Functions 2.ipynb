{
 "cells": [
  {
   "cell_type": "markdown",
   "metadata": {},
   "source": [
    "# Functions 2\n",
    "While we explored some function basics, there are lots more variations of what can happen with functions. For example, functions can have multiple inputs and/or multiple outputs. Frequently, a function has default inputs if not otherwise specified. Let's explore some examples."
   ]
  },
  {
   "cell_type": "code",
   "execution_count": 5,
   "metadata": {},
   "outputs": [
    {
     "name": "stdout",
     "output_type": "stream",
     "text": [
      "5\n"
     ]
    }
   ],
   "source": [
    "# Write a function that takes two numbers as inputs and adds them\n",
    "\n",
    "def add_2_numbers(x,y):\n",
    "    return x+y\n",
    "\n",
    "z1 = add_2_numbers(2,3)\n",
    "\n",
    "print(z1)"
   ]
  },
  {
   "cell_type": "markdown",
   "metadata": {},
   "source": [
    "This function took the two input numbers and output precisely one number, the sum. Depending on what we want to do with the function and its output, it might not require a return statement at all, but a \"pass\" statement instead."
   ]
  },
  {
   "cell_type": "code",
   "execution_count": 6,
   "metadata": {},
   "outputs": [
    {
     "name": "stdout",
     "output_type": "stream",
     "text": [
      "6\n",
      "None\n"
     ]
    }
   ],
   "source": [
    "# Let's try a similar function in a different way\n",
    "\n",
    "def add_nums_badly(x,y):\n",
    "    print(x+y+1)\n",
    "    pass\n",
    "\n",
    "z2 = add_nums_badly(2,3)\n",
    "\n",
    "print(z2)"
   ]
  },
  {
   "cell_type": "code",
   "execution_count": null,
   "metadata": {},
   "outputs": [],
   "source": [
    "###"
   ]
  },
  {
   "cell_type": "markdown",
   "metadata": {},
   "source": [
    "Note that this function doesn't actually return anything! However, there is output of sorts in a print statement."
   ]
  },
  {
   "cell_type": "markdown",
   "metadata": {},
   "source": [
    "$\\underline{\\hspace{6in}}$\n",
    "\n",
    "Let's look at another example. This function will take a string as input and output the string reversed as well as the length of the string. That is, there is one input and two outputs."
   ]
  },
  {
   "cell_type": "code",
   "execution_count": 7,
   "metadata": {},
   "outputs": [
    {
     "data": {
      "text/plain": [
       "('nihplod', 7)"
      ]
     },
     "execution_count": 7,
     "metadata": {},
     "output_type": "execute_result"
    }
   ],
   "source": [
    "#implement the function described above\n",
    "\n",
    "def reverse_and_count(word):\n",
    "    new_word = ''\n",
    "    n = len(word)\n",
    "    for i in range(n):\n",
    "        new_word = new_word + word[n-i-1]\n",
    "    return new_word, n\n",
    "    \n",
    "reverse_and_count('dolphin')\n"
   ]
  },
  {
   "cell_type": "code",
   "execution_count": 8,
   "metadata": {},
   "outputs": [
    {
     "data": {
      "text/plain": [
       "('suoicodilaipxecitsiligarfilacrepuS', 34)"
      ]
     },
     "execution_count": 8,
     "metadata": {},
     "output_type": "execute_result"
    }
   ],
   "source": [
    "#apply the function to another string\n",
    "\n",
    "reverse_and_count('Supercalifragilisticexpialidocious')\n"
   ]
  },
  {
   "cell_type": "code",
   "execution_count": 12,
   "metadata": {},
   "outputs": [
    {
     "data": {
      "text/plain": [
       "('secaps htiw gnirts', 18)"
      ]
     },
     "execution_count": 12,
     "metadata": {},
     "output_type": "execute_result"
    }
   ],
   "source": [
    "reverse_and_count('string with spaces')"
   ]
  },
  {
   "cell_type": "markdown",
   "metadata": {},
   "source": [
    "$\\underline{\\hspace{6in}}$\n",
    "\n",
    "In previous examples we have stored *the* output in a variable. What happens if we try to do that with a function with multiple outputs?"
   ]
  },
  {
   "cell_type": "code",
   "execution_count": 13,
   "metadata": {},
   "outputs": [
    {
     "name": "stdout",
     "output_type": "stream",
     "text": [
      "('suoicodilaipxecitsiligarfilacrepuS', 34)\n"
     ]
    }
   ],
   "source": [
    "testing = reverse_and_count('Supercalifragilisticexpialidocious')\n",
    "\n",
    "print(testing)"
   ]
  },
  {
   "cell_type": "markdown",
   "metadata": {},
   "source": [
    "The output of the function is returned in a data type known as a 'tuple'. Here if we want to reference one of the outputs individually, we can do so by grabbing one of the entries kind of like in a list."
   ]
  },
  {
   "cell_type": "code",
   "execution_count": 14,
   "metadata": {},
   "outputs": [
    {
     "data": {
      "text/plain": [
       "'suoicodilaipxecitsiligarfilacrepuS'"
      ]
     },
     "execution_count": 14,
     "metadata": {},
     "output_type": "execute_result"
    }
   ],
   "source": [
    "testing[0]"
   ]
  },
  {
   "cell_type": "code",
   "execution_count": 15,
   "metadata": {},
   "outputs": [
    {
     "data": {
      "text/plain": [
       "34"
      ]
     },
     "execution_count": 15,
     "metadata": {},
     "output_type": "execute_result"
    }
   ],
   "source": [
    "testing[1]"
   ]
  },
  {
   "cell_type": "markdown",
   "metadata": {},
   "source": [
    "However, another way to deal with multiple outputs that you would want to use in the future is to give each output a name and separate them by commas."
   ]
  },
  {
   "cell_type": "code",
   "execution_count": 16,
   "metadata": {},
   "outputs": [],
   "source": [
    "rev_word, len_of_word = reverse_and_count('Supercalifragilisticexpialidocious')"
   ]
  },
  {
   "cell_type": "code",
   "execution_count": 17,
   "metadata": {},
   "outputs": [
    {
     "name": "stdout",
     "output_type": "stream",
     "text": [
      "suoicodilaipxecitsiligarfilacrepuS\n"
     ]
    }
   ],
   "source": [
    "print(rev_word)"
   ]
  },
  {
   "cell_type": "code",
   "execution_count": 18,
   "metadata": {},
   "outputs": [
    {
     "name": "stdout",
     "output_type": "stream",
     "text": [
      "34\n"
     ]
    }
   ],
   "source": [
    "print(len_of_word)"
   ]
  },
  {
   "cell_type": "markdown",
   "metadata": {},
   "source": [
    "$\\underline{\\hspace{6in}}$\n",
    "\n",
    "Your turn! Design a function that has multiple inputs, outputs, or both."
   ]
  },
  {
   "cell_type": "code",
   "execution_count": null,
   "metadata": {},
   "outputs": [],
   "source": [
    "\n"
   ]
  },
  {
   "cell_type": "code",
   "execution_count": null,
   "metadata": {},
   "outputs": [],
   "source": [
    "\n",
    "\n"
   ]
  },
  {
   "cell_type": "code",
   "execution_count": null,
   "metadata": {},
   "outputs": [],
   "source": []
  }
 ],
 "metadata": {
  "kernelspec": {
   "display_name": "Python 3",
   "language": "python",
   "name": "python3"
  },
  "language_info": {
   "codemirror_mode": {
    "name": "ipython",
    "version": 3
   },
   "file_extension": ".py",
   "mimetype": "text/x-python",
   "name": "python",
   "nbconvert_exporter": "python",
   "pygments_lexer": "ipython3",
   "version": "3.8.3"
  }
 },
 "nbformat": 4,
 "nbformat_minor": 4
}
