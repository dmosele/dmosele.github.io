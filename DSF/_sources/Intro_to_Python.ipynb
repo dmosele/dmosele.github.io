{
 "cells": [
  {
   "cell_type": "markdown",
   "metadata": {},
   "source": [
    "# Introduction to Python"
   ]
  },
  {
   "cell_type": "markdown",
   "metadata": {},
   "source": [
    "Welcome to Python! There are a couple of ways to get started using Python. One is to install it directly on your computer using something like Anaconda. The other way is to use it in the cloud with a service like Google Colab. Either way is fine for now, so let's get started."
   ]
  },
  {
   "cell_type": "markdown",
   "metadata": {},
   "source": [
    "## Google Colab\n",
    "\n",
    "The nice thing about Google Colab is that it is available basically anywhere you have an internet browser. There's nothing to install. All you need to do is go to https://colab.research.google.com and create a new notebook.\n",
    "\n",
    "The downside, at least for me, is that it is not intuitive how to import data into Colab. If you want to import data into colab, you can use the following code: (You will need to remove the # symbols to make the code work)."
   ]
  },
  {
   "cell_type": "code",
   "execution_count": 1,
   "metadata": {},
   "outputs": [],
   "source": [
    "#import pandas as pd\n",
    "#from google.colab import files\n",
    "#import io\n",
    "\n",
    "#uploaded = files.upload()\n",
    "#df2 = pd.read_csv(io.BytesIO(uploaded['name_of_file.csv']))"
   ]
  },
  {
   "cell_type": "markdown",
   "metadata": {},
   "source": [
    "## Anaconda\n",
    "\n",
    "The program Anaconda is Python equipped with a bunch of tools and an easy way to add new tools to it. The downside is that it is software to be installed, but the upside is that it is free!\n",
    "\n",
    "You can download it from https://www.anaconda.com/products/individual and install it. Once it is installed you can install and then launch Jupyter Notebook from the Anaconda Navigator."
   ]
  },
  {
   "cell_type": "code",
   "execution_count": null,
   "metadata": {},
   "outputs": [],
   "source": []
  }
 ],
 "metadata": {
  "kernelspec": {
   "display_name": "Python 3",
   "language": "python",
   "name": "python3"
  },
  "language_info": {
   "codemirror_mode": {
    "name": "ipython",
    "version": 3
   },
   "file_extension": ".py",
   "mimetype": "text/x-python",
   "name": "python",
   "nbconvert_exporter": "python",
   "pygments_lexer": "ipython3",
   "version": "3.8.3"
  }
 },
 "nbformat": 4,
 "nbformat_minor": 4
}
