{
 "cells": [
  {
   "cell_type": "markdown",
   "metadata": {},
   "source": [
    "# Functions\n",
    "When we want to generalize a computation or be able to apply a process to several objects, we can utilize the idea of a function to achieve this. The notion of function is similar to the one in math, except it has a little (just a little) more freedom. In math, a function takes some object as input (a number or numbers usually) and produces an output (also generally a number, but not necessarily). Here, it is essentially the same scenario except our output doesn't even necessarily have to exist!\n",
    "\n",
    "To further show the similarities, let's take an example of the squaring function. In a math course, you would typically write the function as\n",
    "$$ f(x) = x^2 .$$\n",
    "The input is a number for which we use $x$ as a stand-in, and the output is the square of the input."
   ]
  },
  {
   "cell_type": "code",
   "execution_count": 2,
   "metadata": {},
   "outputs": [],
   "source": [
    "#implement the squaring function in code\n",
    "#square a few numbers\n",
    "\n",
    "def square(x):\n",
    "    return x**2\n"
   ]
  },
  {
   "cell_type": "code",
   "execution_count": 3,
   "metadata": {},
   "outputs": [
    {
     "data": {
      "text/plain": [
       "25"
      ]
     },
     "execution_count": 3,
     "metadata": {},
     "output_type": "execute_result"
    }
   ],
   "source": [
    "square(5)"
   ]
  },
  {
   "cell_type": "code",
   "execution_count": 4,
   "metadata": {},
   "outputs": [
    {
     "data": {
      "text/plain": [
       "7.387524"
      ]
     },
     "execution_count": 4,
     "metadata": {},
     "output_type": "execute_result"
    }
   ],
   "source": [
    "square(2.718)"
   ]
  },
  {
   "cell_type": "markdown",
   "metadata": {},
   "source": [
    "The formatting here should remind you a little of the loops we have implemented before. We always start a function definition with \"def\" followed by the function name with its input(s) in parentheses and a colon. That is,\n",
    "\n",
    "def function_name(variables):\n",
    "\n",
    "We then indent the next line and we use \"return\" to indicate what the output(s) should be."
   ]
  },
  {
   "cell_type": "markdown",
   "metadata": {},
   "source": [
    "$\\underline{\\hspace{6in}}$\n",
    "\n",
    "Let's look at another example. This function will take a string as input and output the string next to itself. That is, if the input is 'dolphin', the output will be 'dolphindolphin'."
   ]
  },
  {
   "cell_type": "code",
   "execution_count": 5,
   "metadata": {},
   "outputs": [],
   "source": [
    "#implement the function that doubles strings\n",
    "\n",
    "def double_string(word):\n",
    "    return word+word"
   ]
  },
  {
   "cell_type": "code",
   "execution_count": 6,
   "metadata": {},
   "outputs": [
    {
     "data": {
      "text/plain": [
       "'dolphindolphin'"
      ]
     },
     "execution_count": 6,
     "metadata": {},
     "output_type": "execute_result"
    }
   ],
   "source": [
    "#double the string 'dolphin'\n",
    "\n",
    "double_string('dolphin')"
   ]
  },
  {
   "cell_type": "code",
   "execution_count": 7,
   "metadata": {},
   "outputs": [
    {
     "data": {
      "text/plain": [
       "'blahblah'"
      ]
     },
     "execution_count": 7,
     "metadata": {},
     "output_type": "execute_result"
    }
   ],
   "source": [
    "#apply the function to another string\n",
    "\n",
    "double_string('blah')"
   ]
  },
  {
   "cell_type": "code",
   "execution_count": 8,
   "metadata": {},
   "outputs": [
    {
     "data": {
      "text/plain": [
       "10"
      ]
     },
     "execution_count": 8,
     "metadata": {},
     "output_type": "execute_result"
    }
   ],
   "source": [
    "#Note that this function doesn't have to be used on a string\n",
    "\n",
    "double_string(5)"
   ]
  },
  {
   "cell_type": "markdown",
   "metadata": {},
   "source": [
    "$\\underline{\\hspace{6in}}$\n",
    "\n",
    "Perhaps a more useful example could be converting temperatures in Fahrenheit to Celsius. Recall that the conversion here is \n",
    "$$C = (F-32)*(5/9)$$"
   ]
  },
  {
   "cell_type": "code",
   "execution_count": 13,
   "metadata": {},
   "outputs": [],
   "source": [
    "#implement the function that converts degrees Fahrenheit to Celsius\n",
    "\n",
    "def fah_to_cel(F):\n",
    "    temp = F-32\n",
    "    return temp*(5/9)"
   ]
  },
  {
   "cell_type": "code",
   "execution_count": 14,
   "metadata": {},
   "outputs": [
    {
     "data": {
      "text/plain": [
       "37.0"
      ]
     },
     "execution_count": 14,
     "metadata": {},
     "output_type": "execute_result"
    }
   ],
   "source": [
    "#what does 98.6 degrees convert to?\n",
    "\n",
    "fah_to_cel(98.6)"
   ]
  },
  {
   "cell_type": "code",
   "execution_count": 15,
   "metadata": {},
   "outputs": [
    {
     "data": {
      "text/plain": [
       "100.0"
      ]
     },
     "execution_count": 15,
     "metadata": {},
     "output_type": "execute_result"
    }
   ],
   "source": [
    "#What does 212 degrees convert to?\n",
    "\n",
    "fah_to_cel(212)"
   ]
  },
  {
   "cell_type": "markdown",
   "metadata": {},
   "source": [
    "One of the points to make about this example is that steps can happen between the 'def' statement and the 'return' statement. In fact, most of the time this is true. (Though it always seems to be 'Pythonic' to do things as tersely as possible - could you rewrite the last function so that there is no intermediate step?)"
   ]
  },
  {
   "cell_type": "markdown",
   "metadata": {},
   "source": [
    "$\\underline{\\hspace{6in}}$\n",
    "\n",
    "The last point that we should make today is that sometimes we want to hold onto the output of a function through a variable. We may then possibly use it in another function. Again, there are many ways to represent this, but let me show you one.\n",
    "\n",
    "The speed of sound is approximately $331.3 + (0.6 * temp)$ where the temperature is in Celsius."
   ]
  },
  {
   "cell_type": "code",
   "execution_count": 16,
   "metadata": {},
   "outputs": [],
   "source": [
    "#implement a speed of sound function\n",
    "def speed_of_sound(C):\n",
    "    return 331.3+0.6*C\n"
   ]
  },
  {
   "cell_type": "code",
   "execution_count": 17,
   "metadata": {},
   "outputs": [
    {
     "data": {
      "text/plain": [
       "350.63"
      ]
     },
     "execution_count": 17,
     "metadata": {},
     "output_type": "execute_result"
    }
   ],
   "source": [
    "#compute the speed of sound in Jacksonville when it is \n",
    "#90 degrees Fahrenheit\n",
    "\n",
    "C = fah_to_cel(90)\n",
    "\n",
    "round(speed_of_sound(C),2)\n",
    "\n"
   ]
  },
  {
   "cell_type": "code",
   "execution_count": 25,
   "metadata": {},
   "outputs": [],
   "source": [
    "#Alternative way to define the function to incorporate the conversion.\n",
    "\n",
    "def speed_of_sound2(F):\n",
    "    C = fah_to_cel(F)\n",
    "    return 331.3+0.6*C\n"
   ]
  },
  {
   "cell_type": "code",
   "execution_count": 26,
   "metadata": {},
   "outputs": [
    {
     "data": {
      "text/plain": [
       "350.6333333333333"
      ]
     },
     "execution_count": 26,
     "metadata": {},
     "output_type": "execute_result"
    }
   ],
   "source": [
    "speed_of_sound2(90)"
   ]
  },
  {
   "cell_type": "code",
   "execution_count": null,
   "metadata": {},
   "outputs": [],
   "source": []
  }
 ],
 "metadata": {
  "kernelspec": {
   "display_name": "Python 3",
   "language": "python",
   "name": "python3"
  },
  "language_info": {
   "codemirror_mode": {
    "name": "ipython",
    "version": 3
   },
   "file_extension": ".py",
   "mimetype": "text/x-python",
   "name": "python",
   "nbconvert_exporter": "python",
   "pygments_lexer": "ipython3",
   "version": "3.8.3"
  }
 },
 "nbformat": 4,
 "nbformat_minor": 4
}
