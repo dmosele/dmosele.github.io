{
 "cells": [
  {
   "cell_type": "markdown",
   "metadata": {},
   "source": [
    "# Lists and Iterating #2"
   ]
  },
  {
   "cell_type": "markdown",
   "metadata": {},
   "source": [
    "Let's create a loop that adds up the first few odd numbers such as \n",
    "$$1+3+5+7+9 = 25$$\n",
    "This is easy to do when you add up a limited number of odd numbers, but if we were doing this 20, 50, or 100 times, a loop would make our lives much easier."
   ]
  },
  {
   "cell_type": "code",
   "execution_count": 1,
   "metadata": {},
   "outputs": [
    {
     "name": "stdout",
     "output_type": "stream",
     "text": [
      "10000\n"
     ]
    }
   ],
   "source": [
    "#Write a loop that adds up the first 20, 50, or 100 odd numbers. \n",
    "#Is there a pattern here?\n",
    "\n",
    "sum_of_odds=0\n",
    "\n",
    "for i in range(100):\n",
    "    sum_of_odds = sum_of_odds + (2*i+1)\n",
    "\n",
    "print(sum_of_odds)"
   ]
  },
  {
   "cell_type": "markdown",
   "metadata": {},
   "source": [
    "Next, create a loop that adds up terms of the form $\\frac 1{n^2}$. That is, if we for example add up the first 4\n",
    "$$\\frac 1{1^2} + \\frac 1{2^2} + \\frac{1}{3^2} + \\frac{1}{4^2}.$$\n",
    "Write a loop to add up the first 10000 of these."
   ]
  },
  {
   "cell_type": "code",
   "execution_count": 2,
   "metadata": {},
   "outputs": [
    {
     "name": "stdout",
     "output_type": "stream",
     "text": [
      "1.6448340718480652\n"
     ]
    }
   ],
   "source": [
    "# Add up the sequence of fractions above using a loop.\n",
    "# You may want to start at 1\n",
    "\n",
    "sum_of_fracs = 0\n",
    "\n",
    "for j in range(10000):\n",
    "    sum_of_fracs = sum_of_fracs + (1/((j+1)**2))\n",
    "\n",
    "print(sum_of_fracs)"
   ]
  },
  {
   "cell_type": "markdown",
   "metadata": {},
   "source": [
    "Unrelated but interesting, what happens when you take the answer above, multiply it by 6 and then take the square root?"
   ]
  },
  {
   "cell_type": "code",
   "execution_count": 3,
   "metadata": {},
   "outputs": [
    {
     "data": {
      "text/plain": [
       "3.1414971639472147"
      ]
     },
     "execution_count": 3,
     "metadata": {},
     "output_type": "execute_result"
    }
   ],
   "source": [
    "(6*sum_of_fracs)**(1/2)"
   ]
  },
  {
   "cell_type": "markdown",
   "metadata": {},
   "source": [
    "$\\underline{\\hspace{6in}}$"
   ]
  },
  {
   "cell_type": "markdown",
   "metadata": {},
   "source": [
    "Here are a few (one of them silly) examples of loops."
   ]
  },
  {
   "cell_type": "code",
   "execution_count": 4,
   "metadata": {},
   "outputs": [
    {
     "name": "stdout",
     "output_type": "stream",
     "text": [
      "There was a farmer had a dog and Bingo was his name-oh\n",
      "BINGO, BINGO, BINGO\n",
      "and Bingo was his name-oh\n",
      "There was a farmer had a dog and Bingo was his name-oh\n",
      "INGO, INGO, INGO\n",
      "and Bingo was his name-oh\n",
      "There was a farmer had a dog and Bingo was his name-oh\n",
      "NGO, NGO, NGO\n",
      "and Bingo was his name-oh\n",
      "There was a farmer had a dog and Bingo was his name-oh\n",
      "GO, GO, GO\n",
      "and Bingo was his name-oh\n",
      "There was a farmer had a dog and Bingo was his name-oh\n",
      "O, O, O\n",
      "and Bingo was his name-oh\n"
     ]
    }
   ],
   "source": [
    "bingo = \"There was a farmer had a dog and Bingo was his name-oh\"\n",
    "name = 'BINGO'\n",
    "ending = \"and Bingo was his name-oh\"\n",
    "\n",
    "for i in range(5):\n",
    "    print(bingo)\n",
    "    print(name[i:],name[i:],name[i:],sep=', ')\n",
    "    print(ending)"
   ]
  },
  {
   "cell_type": "code",
   "execution_count": 5,
   "metadata": {},
   "outputs": [
    {
     "name": "stdout",
     "output_type": "stream",
     "text": [
      "2.7182818284590455\n"
     ]
    }
   ],
   "source": [
    "#approximating the number e\n",
    "import math\n",
    "\n",
    "sum = 0\n",
    "\n",
    "for i in range(30):\n",
    "    sum = sum + (1/math.factorial(i))\n",
    "    \n",
    "print(sum)"
   ]
  },
  {
   "cell_type": "code",
   "execution_count": 6,
   "metadata": {},
   "outputs": [
    {
     "name": "stdout",
     "output_type": "stream",
     "text": [
      "0\n",
      "1\n",
      "1\n",
      "2\n",
      "4\n",
      "7\n",
      "13\n",
      "24\n",
      "44\n",
      "81\n",
      "149\n",
      "274\n",
      "504\n",
      "927\n",
      "1705\n",
      "3136\n",
      "5768\n",
      "10609\n",
      "19513\n",
      "35890\n",
      "66012\n",
      "121415\n",
      "223317\n",
      "410744\n",
      "755476\n",
      "1389537\n",
      "2555757\n",
      "4700770\n",
      "8646064\n",
      "15902591\n",
      "29249425\n",
      "53798080\n",
      "98950096\n"
     ]
    }
   ],
   "source": [
    "#tribonacci numbers\n",
    "\n",
    "trib = [0,1,1]\n",
    "\n",
    "for k in range(30):\n",
    "    trib.append(trib[k]+trib[k+1]+trib[k+2])\n",
    "    \n",
    "print(*trib,sep='\\n')"
   ]
  },
  {
   "cell_type": "code",
   "execution_count": null,
   "metadata": {},
   "outputs": [],
   "source": []
  }
 ],
 "metadata": {
  "kernelspec": {
   "display_name": "Python 3",
   "language": "python",
   "name": "python3"
  },
  "language_info": {
   "codemirror_mode": {
    "name": "ipython",
    "version": 3
   },
   "file_extension": ".py",
   "mimetype": "text/x-python",
   "name": "python",
   "nbconvert_exporter": "python",
   "pygments_lexer": "ipython3",
   "version": "3.8.3"
  }
 },
 "nbformat": 4,
 "nbformat_minor": 4
}
