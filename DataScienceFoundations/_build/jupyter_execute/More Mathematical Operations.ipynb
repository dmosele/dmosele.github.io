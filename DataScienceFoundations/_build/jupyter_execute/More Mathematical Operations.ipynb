{
 "cells": [
  {
   "cell_type": "markdown",
   "metadata": {},
   "source": [
    "# More Mathematical Operations in Python\n",
    "\n",
    "Here we are going to lean on the math module in Python to unlock some more advanced mathematical operations. To import a module, you just use the code \"import nameofmodule\". (Though we will later learn some different ways to import modules)."
   ]
  },
  {
   "cell_type": "code",
   "execution_count": 1,
   "metadata": {},
   "outputs": [],
   "source": [
    "# try out import math\n",
    "import math"
   ]
  },
  {
   "cell_type": "markdown",
   "metadata": {},
   "source": [
    "Let's now see what we can do with the math module. Perhaps something we can compute in multiple ways like square root. Compute $\\sqrt{2}$ using an exponent as well as math.sqrt(2)."
   ]
  },
  {
   "cell_type": "code",
   "execution_count": 2,
   "metadata": {},
   "outputs": [
    {
     "data": {
      "text/plain": [
       "1.4142135623730951"
      ]
     },
     "execution_count": 2,
     "metadata": {},
     "output_type": "execute_result"
    }
   ],
   "source": [
    "# Compute the square root of 2 using the code math.sqrt(2)\n",
    "math.sqrt(2)\n"
   ]
  },
  {
   "cell_type": "code",
   "execution_count": 3,
   "metadata": {},
   "outputs": [
    {
     "data": {
      "text/plain": [
       "1.4142135623730951"
      ]
     },
     "execution_count": 3,
     "metadata": {},
     "output_type": "execute_result"
    }
   ],
   "source": [
    "# Which exponent is equivalent to the square root?\n",
    "2**(1/2)\n"
   ]
  },
  {
   "cell_type": "markdown",
   "metadata": {},
   "source": [
    "What about other mathematical functions such as $\\sin(x)$, $e^x$, and $\\log(x)$? If you are pausing here because you either don't remember these functions or are wondering \"which log\", that's totally okay. The logarithm function is a good example of one that can take several arguments (inputs). Python sometimes makes assumptions about your input if you leave out optional inputs. "
   ]
  },
  {
   "cell_type": "code",
   "execution_count": 4,
   "metadata": {},
   "outputs": [
    {
     "data": {
      "text/plain": [
       "2.6535897933527304e-06"
      ]
     },
     "execution_count": 4,
     "metadata": {},
     "output_type": "execute_result"
    }
   ],
   "source": [
    "#Compute math.sin(3.14159)\n",
    "math.sin(3.14159)\n"
   ]
  },
  {
   "cell_type": "code",
   "execution_count": 5,
   "metadata": {},
   "outputs": [
    {
     "data": {
      "text/plain": [
       "7.38905609893065"
      ]
     },
     "execution_count": 5,
     "metadata": {},
     "output_type": "execute_result"
    }
   ],
   "source": [
    "#Compute math.exp(2)\n",
    "math.exp(2)\n"
   ]
  },
  {
   "cell_type": "code",
   "execution_count": 6,
   "metadata": {},
   "outputs": [
    {
     "name": "stdout",
     "output_type": "stream",
     "text": [
      "2.0\n",
      "4.605170185988092\n"
     ]
    }
   ],
   "source": [
    "#Compute math.log(100,10) and math.log(100)\n",
    "print(math.log(100,10),math.log(100),sep='\\n')\n"
   ]
  },
  {
   "cell_type": "markdown",
   "metadata": {},
   "source": [
    "My computation of $\\sin(\\pi)$ earlier was kind of weak because I used an approximation. A better approximation for $\\pi$ is contained in the math module as math.pi. Can we do that computation again?"
   ]
  },
  {
   "cell_type": "code",
   "execution_count": 7,
   "metadata": {},
   "outputs": [
    {
     "data": {
      "text/plain": [
       "1.2246467991473532e-16"
      ]
     },
     "execution_count": 7,
     "metadata": {},
     "output_type": "execute_result"
    }
   ],
   "source": [
    "#Compute sin(pi) using the pi value from the math module\n",
    "\n",
    "math.sin(math.pi)"
   ]
  },
  {
   "cell_type": "markdown",
   "metadata": {},
   "source": [
    "$\\underline{\\hspace{6in}}$"
   ]
  },
  {
   "cell_type": "markdown",
   "metadata": {},
   "source": [
    "One more topic to bring up is rounding. There are several ways to go about rounding a number. We could always round up, always round down, or just round to the nearest whole number. The first is frequently referred to as the \"ceiling\" function, the second is the \"floor\" function, and the last is usually what we just call rounding.\n",
    "\n",
    "The ceiling function is math.ceil, the floor is math.floor, and rounding can be achieved with the round() function. Note that the round() function can take more than one input. What might the second input specify when rounding?"
   ]
  },
  {
   "cell_type": "code",
   "execution_count": 8,
   "metadata": {},
   "outputs": [
    {
     "name": "stdout",
     "output_type": "stream",
     "text": [
      "3\n",
      "4\n",
      "3.14159\n"
     ]
    }
   ],
   "source": [
    "#Compute the ceiling, floor, and rounded value of pi.\n",
    "\n",
    "print(math.floor(math.pi),math.ceil(math.pi),round(math.pi,5),sep='\\n')"
   ]
  },
  {
   "cell_type": "markdown",
   "metadata": {},
   "source": [
    "Finally, let's have a look at one of the pitfalls of computation on a computer. That is, it isn't great with exact values. For example, I know the algebraic identity that \n",
    "$$ e^{\\log(x)} = x .$$\n",
    "However, if we compute $e^{\\log(20)}$ what do we get?"
   ]
  },
  {
   "cell_type": "code",
   "execution_count": 9,
   "metadata": {},
   "outputs": [
    {
     "data": {
      "text/plain": [
       "19.999999999999996"
      ]
     },
     "execution_count": 9,
     "metadata": {},
     "output_type": "execute_result"
    }
   ],
   "source": [
    "#Compute e^(log(20))\n",
    "math.exp(math.log(20))\n"
   ]
  },
  {
   "cell_type": "code",
   "execution_count": 10,
   "metadata": {},
   "outputs": [
    {
     "data": {
      "text/plain": [
       "19.999999999999993"
      ]
     },
     "execution_count": 10,
     "metadata": {},
     "output_type": "execute_result"
    }
   ],
   "source": [
    "math.exp(1)**math.log(20)"
   ]
  },
  {
   "cell_type": "code",
   "execution_count": null,
   "metadata": {},
   "outputs": [],
   "source": []
  }
 ],
 "metadata": {
  "kernelspec": {
   "display_name": "Python 3",
   "language": "python",
   "name": "python3"
  },
  "language_info": {
   "codemirror_mode": {
    "name": "ipython",
    "version": 3
   },
   "file_extension": ".py",
   "mimetype": "text/x-python",
   "name": "python",
   "nbconvert_exporter": "python",
   "pygments_lexer": "ipython3",
   "version": "3.8.3"
  }
 },
 "nbformat": 4,
 "nbformat_minor": 4
}