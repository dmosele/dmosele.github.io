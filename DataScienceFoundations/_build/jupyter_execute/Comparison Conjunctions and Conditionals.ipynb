{
 "cells": [
  {
   "cell_type": "markdown",
   "metadata": {},
   "source": [
    "# Comparison, Conjunctions, & Conditionals\n",
    "The final thing we need before moving on is the notion of comparison and testing with conditional statements. In a logic course you would understand a conditional statement as something like:\n",
    "\n",
    "\"**If** the sky is green, **then** 2+2=5\"\n",
    "\n",
    "Frequently, in coding we want to be able to test multiple conditions such as \n",
    "\n",
    "\"**If** the sky is green, **then** 2+2=5. Otherwise, **if** the sky is purple, **then** 3+7=2.\"\n",
    "\n",
    "For the subsequent conditions, the word else or \"elif\" is frequently used in programming. The difference here is that else is used if none of the earlier conditions are met and elif is used when there are additional conditions are needed."
   ]
  },
  {
   "cell_type": "code",
   "execution_count": 1,
   "metadata": {},
   "outputs": [
    {
     "data": {
      "text/plain": [
       "'Fall'"
      ]
     },
     "execution_count": 1,
     "metadata": {},
     "output_type": "execute_result"
    }
   ],
   "source": [
    "# Write a function that takes the month as input and provides the semester as output.\n",
    "# Month will be an integer that takes a value between 1 and 12\n",
    "\n",
    "def what_semester(month):\n",
    "    if month<5 and month>=1:\n",
    "        return \"Spring\"\n",
    "    elif month<8 and month>=5:\n",
    "        return \"Summer\"\n",
    "    elif month<13 and month>=8:\n",
    "        return \"Fall\"\n",
    "    else:\n",
    "        return \"Plz try again\"\n",
    "\n",
    "what_semester(8)\n"
   ]
  },
  {
   "cell_type": "markdown",
   "metadata": {},
   "source": [
    "Note that the above function is a bit imprecise. Frequently, the transition between semesters doesn't happen on the first or last day of the month, so we need to be more granular here."
   ]
  },
  {
   "cell_type": "code",
   "execution_count": 2,
   "metadata": {},
   "outputs": [
    {
     "data": {
      "text/plain": [
       "'Fall'"
      ]
     },
     "execution_count": 2,
     "metadata": {},
     "output_type": "execute_result"
    }
   ],
   "source": [
    "# Let's try a similar function with month and day as inputs.\n",
    "\n",
    "def what_semester2(month,day):\n",
    "    if (month==1 and day<10) or month==12:\n",
    "        return \"Winter\"\n",
    "    elif month<5 and month>=1:\n",
    "        return \"Spring\"\n",
    "    elif (month<8 and month>=5) or (month==8 and day<16):\n",
    "        return \"Summer\"\n",
    "    elif month<12 and month>=8:\n",
    "        return \"Fall\"\n",
    "    else:\n",
    "        return \"Plz try again\"\n",
    "    \n",
    "what_semester2(8,20)"
   ]
  },
  {
   "cell_type": "code",
   "execution_count": 3,
   "metadata": {},
   "outputs": [
    {
     "data": {
      "text/plain": [
       "True"
      ]
     },
     "execution_count": 3,
     "metadata": {},
     "output_type": "execute_result"
    }
   ],
   "source": [
    "5 != 6"
   ]
  },
  {
   "cell_type": "markdown",
   "metadata": {},
   "source": [
    "$\\underline{\\hspace{6in}}$\n",
    "\n",
    "Let's look at another example. This one will be a guessing game. The computer will pick a number between 0 and 9 and you have to guess. It will tell you if your guess is less than, greater than, or spot on the correct value."
   ]
  },
  {
   "cell_type": "code",
   "execution_count": 4,
   "metadata": {},
   "outputs": [],
   "source": [
    "#run this cell only once for each time you play the game\n",
    "from random import randrange\n",
    "computer_choice = randrange(10)\n"
   ]
  },
  {
   "cell_type": "code",
   "execution_count": 5,
   "metadata": {},
   "outputs": [],
   "source": [
    "# write a function that allows you to check your guess\n",
    "\n",
    "def guessing_game(computer_choice,your_guess):\n",
    "    if your_guess == computer_choice:\n",
    "        return \"Congratulations! You are correct.\"\n",
    "    elif your_guess > computer_choice:\n",
    "        return \"You guessed too high\"\n",
    "    else:\n",
    "        return \"You guessed too low\"\n"
   ]
  },
  {
   "cell_type": "code",
   "execution_count": 6,
   "metadata": {},
   "outputs": [
    {
     "data": {
      "text/plain": [
       "'You guessed too low'"
      ]
     },
     "execution_count": 6,
     "metadata": {},
     "output_type": "execute_result"
    }
   ],
   "source": [
    "guessing_game(computer_choice, 1)"
   ]
  },
  {
   "cell_type": "code",
   "execution_count": null,
   "metadata": {},
   "outputs": [],
   "source": []
  }
 ],
 "metadata": {
  "kernelspec": {
   "display_name": "Python 3",
   "language": "python",
   "name": "python3"
  },
  "language_info": {
   "codemirror_mode": {
    "name": "ipython",
    "version": 3
   },
   "file_extension": ".py",
   "mimetype": "text/x-python",
   "name": "python",
   "nbconvert_exporter": "python",
   "pygments_lexer": "ipython3",
   "version": "3.8.3"
  }
 },
 "nbformat": 4,
 "nbformat_minor": 4
}